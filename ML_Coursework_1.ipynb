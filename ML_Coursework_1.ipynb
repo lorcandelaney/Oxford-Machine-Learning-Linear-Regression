{
 "cells": [
  {
   "cell_type": "markdown",
   "metadata": {},
   "source": [
    "# Machine Learning - Practical 1: Linear Regression"
   ]
  },
  {
   "cell_type": "markdown",
   "metadata": {},
   "source": [
    "Import Libraries"
   ]
  },
  {
   "cell_type": "code",
   "execution_count": 8,
   "metadata": {},
   "outputs": [],
   "source": [
    "%matplotlib inline\n",
    "\n",
    "import _pickle as cp\n",
    "import numpy as np\n",
    "import matplotlib.pyplot as plt\n",
    "from numpy.linalg import inv\n",
    "from collections import Counter\n",
    "from sklearn import preprocessing\n",
    "from sklearn.preprocessing import StandardScaler\n",
    "from sklearn.linear_model import LinearRegression\n",
    "from sklearn import metrics\n",
    "from sklearn.model_selection import learning_curve"
   ]
  },
  {
   "cell_type": "markdown",
   "metadata": {},
   "source": [
    "# Handin 1"
   ]
  },
  {
   "cell_type": "code",
   "execution_count": 9,
   "metadata": {},
   "outputs": [
    {
     "data": {
      "image/png": "[encoded data removed]",
      "text/plain": [
       "<matplotlib.figure.Figure at 0x11a0e9da0>"
      ]
     },
     "metadata": {},
     "output_type": "display_data"
    }
   ],
   "source": [
    "######## TASK 1 ###########\n",
    "\n",
    "# Define training and test data\n",
    "X, y = cp.load(open('winequality-white.pickle', 'rb'))\n",
    "\n",
    "N, D = X.shape\n",
    "N_train = int(0.8 * N)\n",
    "N_test = N - N_train\n",
    "\n",
    "X_train = X[:N_train]\n",
    "y_train = y[:N_train]\n",
    "X_test = X[N_train:]\n",
    "y_test = y[N_train:]\n",
    "\n",
    "def count_elements(sequence):\n",
    "    # Count frequency of elements in y_train\n",
    "    hist = {}\n",
    "    for i in sequence:\n",
    "        hist[i] = hist.get(i,0)+1\n",
    "    return hist\n",
    "\n",
    "counted = count_elements(y_train)\n",
    "\n",
    "# Plot frequency distribution of y_train\n",
    "plt.bar(counted.keys(), counted.values(), color='g')\n",
    "plt.title('Bar Chart')\n",
    "plt.show()"
   ]
  },
  {
   "cell_type": "markdown",
   "metadata": {},
   "source": [
    "# Handin 2"
   ]
  },
  {
   "cell_type": "code",
   "execution_count": 5,
   "metadata": {},
   "outputs": [
    {
     "name": "stdout",
     "output_type": "stream",
     "text": [
      "0.7767772386501273\n",
      "0.8138390254060818\n",
      "0.784195547519773\n"
     ]
    }
   ],
   "source": [
    "######## TASK 2 ###########\n",
    "\n",
    "\n",
    "# Define function for the Mean Squared Error\n",
    "def mserror(y):\n",
    "    y_mean = np.mean(y)\n",
    "    i=0\n",
    "    tot = 0\n",
    "    for i in range(len(y)):\n",
    "        tot = tot + (y[i] - y_mean)**2\n",
    "\n",
    "    mse = tot/len(y)\n",
    "    return mse\n",
    "\n",
    "MSE_train = mserror(y_train)\n",
    "MSE_test = mserror(y_test)\n",
    "MSE_tot = mserror(y)\n",
    "\n",
    "print(MSE_train)\n",
    "print(MSE_test)\n",
    "print(MSE_tot)"
   ]
  },
  {
   "cell_type": "markdown",
   "metadata": {},
   "source": [
    "# Handin 3"
   ]
  },
  {
   "cell_type": "code",
   "execution_count": 7,
   "metadata": {},
   "outputs": [
    {
     "name": "stdout",
     "output_type": "stream",
     "text": [
      "0.563999617394194\n",
      "0.5607292042283476\n",
      "0.5633452676795058\n"
     ]
    }
   ],
   "source": [
    "######## TASK 3 ###########\n",
    "\n",
    "# Define function to calculate array of feature means\n",
    "def get_feature_means(N, D, X):\n",
    "    feature_means = []\n",
    "    for col in range(D):\n",
    "        feature_means.append(float(0))\n",
    "        for row in range(N):\n",
    "            feature_means[-1] += X[row][col]\n",
    "        feature_means[-1] = feature_means[-1] / N\n",
    "    return feature_means\n",
    "\n",
    "\n",
    "# Define function to calculate array of feature variances\n",
    "def get_feature_std_dev(N, D, X, means):\n",
    "    feature_std_dev = []\n",
    "    for col in range(D):\n",
    "        feature_std_dev.append(float(0))\n",
    "        for row in range(N):\n",
    "            feature_std_dev[-1] += (X[row][col] - means[col])**2\n",
    "        feature_std_dev[-1] = np.sqrt(feature_std_dev[-1] / N)\n",
    "    return feature_std_dev\n",
    "\n",
    "# Define function to create a matrix of standardised data\n",
    "def standardisation(mean, std_dev, data):\n",
    "    standardised_data = np.ndarray(shape=data.shape, dtype=data.dtype)\n",
    "    for col in range(data.shape[1]):\n",
    "        for row in range (data.shape[0]):\n",
    "\n",
    "            standardised_data[row][col] = (data[row][col] - mean[col]) / std_dev[col]\n",
    "    return standardised_data\n",
    "\n",
    "# Define function to create vector of y_hat\n",
    "def find_w (X, y):\n",
    "    X_transpose = np.transpose(X)\n",
    "    w = np.dot(np.dot(inv(np.dot(X_transpose, X)), X_transpose), y)\n",
    "    return w\n",
    "\n",
    "# Define function to compute MSE based on linear model fitting\n",
    "def MSE_linear_regression (real_y, predicted_y):\n",
    "    tot = 0\n",
    "    for i in range (len(real_y)):\n",
    "        tot = tot + ((real_y[i]-predicted_y[i])**2)\n",
    "    mse = tot/len(real_y)\n",
    "    return mse\n",
    "\n",
    "# Standardise all data features for training, \n",
    "#test and total data sets with respect to mean\n",
    "feature_means_train = get_feature_means(N_train, D, X_train)\n",
    "feature_means_test = get_feature_means(N_test, D, X_test)\n",
    "feature_means_tot = get_feature_means(N, D, X)\n",
    "\n",
    "# Standardise all data features for training, test and \n",
    "#total data sets with respect to standard deviation\n",
    "feature_std_dev_train = get_feature_std_dev(N_train, \n",
    "                                            D, X_train, feature_means_train)\n",
    "feature_std_dev_test = get_feature_std_dev(N_test, \n",
    "                                           D, X_test, feature_means_test)\n",
    "feature_std_dev_tot = get_feature_std_dev(N, \n",
    "                                          D, X, feature_means_tot)\n",
    "\n",
    "# Standardise all data features for training,\n",
    "#and total data sets with respect to mean and standard deviation\n",
    "standardised_data_train = standardisation(feature_means_train,\n",
    "                                          feature_std_dev_train,X_train)\n",
    "standardised_data_test = standardisation(feature_means_test,\n",
    "                                         feature_std_dev_test,X_test)\n",
    "standardised_data_tot = standardisation(feature_means_tot,\n",
    "                                        feature_std_dev_tot,X)\n",
    "\n",
    "# Standardise test data using the transformation used for the training data\n",
    "correct_standardised_training_data = standardised_data_train\n",
    "correct_standardised_test_data = standardisation(feature_means_train, \n",
    "                                                 feature_std_dev_train, X_test)\n",
    "correct_standardised_tot_data = standardisation(feature_means_train, \n",
    "                                                feature_std_dev_train, X)\n",
    "\n",
    "# Include a column of ones to data matrices\n",
    "b_training = np.ones((N_train,1))\n",
    "b_test = np.ones((N_test,1))\n",
    "b_tot = np.ones((N,1))\n",
    "\n",
    "new_correct_standardised_training_data = np.hstack((b_training, \n",
    "                                                    correct_standardised_training_data))\n",
    "new_correct_standardised_test_data = np.hstack((b_test, \n",
    "                                                correct_standardised_test_data))\n",
    "new_correct_standardised_tot_data = np.hstack((b_tot, \n",
    "                                               correct_standardised_tot_data))\n",
    "\n",
    "# Compute expected y results based on linear fitting\n",
    "weights = find_w(new_correct_standardised_training_data, y_train)\n",
    "y_hat_train = np.dot(new_correct_standardised_training_data, weights)\n",
    "y_hat_test = np.dot(new_correct_standardised_test_data, weights)\n",
    "y_hat_tot = np.dot(new_correct_standardised_tot_data, weights)\n",
    "\n",
    "# Compute MSE using linear mappingregression model\n",
    "MSE_standardised_train = MSE_linear_regression(y_train, y_hat_train)\n",
    "MSE_standardised_test = MSE_linear_regression(y_test, y_hat_test)\n",
    "MSE_standardised_tot = MSE_linear_regression(y, y_hat_tot)\n",
    "\n",
    "print(MSE_standardised_train)\n",
    "print(MSE_standardised_test)\n",
    "print(MSE_standardised_tot)\n"
   ]
  },
  {
   "cell_type": "markdown",
   "metadata": {},
   "source": [
    "# Handin 4"
   ]
  },
  {
   "cell_type": "code",
   "execution_count": 10,
   "metadata": {},
   "outputs": [
    {
     "data": {
      "image/png": "[encoded data removed]",
      "text/plain": [
       "<matplotlib.figure.Figure at 0x11c616048>"
      ]
     },
     "metadata": {},
     "output_type": "display_data"
    }
   ],
   "source": [
    "######## TASK 4 ###########\n",
    "\n",
    "def learning_curve (title, X, y, min_size, max_size, step):\n",
    "    plt.figure()\n",
    "    plt.title(title)\n",
    "    plt.xlabel(\"Training examples\")\n",
    "    plt.ylabel(\"Score\")\n",
    "    MSE_train = []\n",
    "    MSE_test = []\n",
    "\n",
    "    for i in range (min_size, max_size + 1, step):\n",
    "        X_train = X[:i]\n",
    "        y_train = y[:i]\n",
    "        weight = find_w(X_train, y_train)\n",
    "        y_hat_train = np.dot(X_train, weight)\n",
    "        y_hat_test = np.dot(X, weight)\n",
    "        MSE_standardised_train = MSE_linear_regression(y_train, y_hat_train)\n",
    "        MSE_standardised_test = MSE_linear_regression(y, y_hat_test)\n",
    "        MSE_train.append(MSE_standardised_train)\n",
    "        MSE_test.append(MSE_standardised_test)\n",
    "\n",
    "    plt.plot(np.linspace(20,600, num=30), MSE_train, label='MSE Training Data')\n",
    "    plt.plot(np.linspace(20,600, num=30), MSE_test, label='MSE Test Data')\n",
    "    plt.legend()\n",
    "    plt.show()\n",
    "\n",
    "final = learning_curve('learning_curve', \n",
    "                       new_correct_standardised_tot_data,y,20,600,20)"
   ]
  }
 ],
 "metadata": {
  "kernelspec": {
   "display_name": "Python 3",
   "language": "python",
   "name": "python3"
  },
  "language_info": {
   "codemirror_mode": {
    "name": "ipython",
    "version": 3
   },
   "file_extension": ".py",
   "mimetype": "text/x-python",
   "name": "python",
   "nbconvert_exporter": "python",
   "pygments_lexer": "ipython3",
   "version": "3.6.4"
  }
 },
 "nbformat": 4,
 "nbformat_minor": 2
}
